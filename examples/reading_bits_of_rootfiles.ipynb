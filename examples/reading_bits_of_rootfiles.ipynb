{
 "cells": [
  {
   "cell_type": "code",
   "execution_count": 3,
   "metadata": {},
   "outputs": [],
   "source": [
    "import uproot\n",
    "import numpy as np"
   ]
  },
  {
   "cell_type": "code",
   "execution_count": 4,
   "metadata": {},
   "outputs": [],
   "source": [
    "path = '/data/20181011_M1_05075881.001_Y_CrabNebula-W0.40+359.root'"
   ]
  },
  {
   "cell_type": "code",
   "execution_count": 5,
   "metadata": {},
   "outputs": [],
   "source": [
    "opened = uproot.open(path)"
   ]
  },
  {
   "cell_type": "markdown",
   "metadata": {},
   "source": [
    "Es gibt mehrere branches \"Events\" in der geöffneten root-file."
   ]
  },
  {
   "cell_type": "code",
   "execution_count": 6,
   "metadata": {},
   "outputs": [
    {
     "name": "stdout",
     "output_type": "stream",
     "text": [
      "b'Events;3', b'Events;2', b'RunHeaders;1', b'RunTails;1', b'Pedestals;1', b'Camera;1', b'Trigger;1', b'L3T;1', b'Drive;1', b'CC;1', b'Starguider;1', b'DT;1', b'Pyrometer;1', b'DAQ;1', b'AMC;1', b'SUMO;1', b'SumTrigger;1', b'Lidar;1', b'Laser;1', b'Weather;1', b'Pulsar;1', b'Cal;1', b'Cooling;1', b'GFS;1', "
     ]
    }
   ],
   "source": [
    "for key in opened.keys():\n",
    "    print(key, end=', ')"
   ]
  },
  {
   "cell_type": "code",
   "execution_count": 7,
   "metadata": {},
   "outputs": [
    {
     "data": {
      "text/plain": [
       "[b'Events;3', b'Events;2']"
      ]
     },
     "execution_count": 7,
     "metadata": {},
     "output_type": "execute_result"
    }
   ],
   "source": [
    "event_keys = []\n",
    "for key in opened.keys():\n",
    "    if b'Events' in key:\n",
    "        event_keys.append(key)\n",
    "event_keys"
   ]
  },
  {
   "cell_type": "code",
   "execution_count": 8,
   "metadata": {},
   "outputs": [
    {
     "data": {
      "text/plain": [
       "11076"
      ]
     },
     "execution_count": 8,
     "metadata": {},
     "output_type": "execute_result"
    }
   ],
   "source": [
    "evts2 = opened[b'Events;2']\n",
    "len(evts2)"
   ]
  },
  {
   "cell_type": "code",
   "execution_count": 9,
   "metadata": {},
   "outputs": [
    {
     "data": {
      "text/plain": [
       "16017"
      ]
     },
     "execution_count": 9,
     "metadata": {},
     "output_type": "execute_result"
    }
   ],
   "source": [
    "evts3 = opened[b'Events;3']\n",
    "len(evts3)"
   ]
  },
  {
   "cell_type": "code",
   "execution_count": 10,
   "metadata": {},
   "outputs": [
    {
     "data": {
      "text/plain": [
       "16017"
      ]
     },
     "execution_count": 10,
     "metadata": {},
     "output_type": "execute_result"
    }
   ],
   "source": [
    "evts = opened[b'Events']\n",
    "len(evts)"
   ]
  },
  {
   "cell_type": "markdown",
   "metadata": {},
   "source": [
    ".. die offenbar unterschiedliche Länge haben"
   ]
  },
  {
   "cell_type": "code",
   "execution_count": 11,
   "metadata": {},
   "outputs": [
    {
     "data": {
      "text/plain": [
       "[b'MCerPhotEvt.',\n",
       " b'MTime.',\n",
       " b'MRawEvtHeader.',\n",
       " b'MArrivalTime.',\n",
       " b'MTriggerPattern.']"
      ]
     },
     "execution_count": 11,
     "metadata": {},
     "output_type": "execute_result"
    }
   ],
   "source": [
    "evts.keys()"
   ]
  },
  {
   "cell_type": "markdown",
   "metadata": {},
   "source": [
    "An die tatsächlchen Daten kommt man mit `.array()`"
   ]
  },
  {
   "cell_type": "code",
   "execution_count": 12,
   "metadata": {},
   "outputs": [],
   "source": [
    "data = evts3[b'MCerPhotEvt.fPixels.fPhot'].array()"
   ]
  },
  {
   "cell_type": "code",
   "execution_count": 13,
   "metadata": {},
   "outputs": [
    {
     "data": {
      "text/plain": [
       "<JaggedArray [[4.78125  6.640625 4.40625  ... 0.       0.       0.      ] [ 5.34375    1.6289062  1.9648438 ...  0.         0.        -0.       ] [3.0546875 4.953125  4.6875    ... 0.        0.        0.       ] ... [3.0859375 3.78125   3.46875   ... 0.        0.        0.       ] [1.9882812 3.609375  3.2109375 ... 0.        0.        0.       ] [2.875     1.1679688 1.5625    ... 0.        0.        0.       ]] at 7f51004788d0>"
      ]
     },
     "execution_count": 13,
     "metadata": {},
     "output_type": "execute_result"
    }
   ],
   "source": [
    "data"
   ]
  },
  {
   "cell_type": "code",
   "execution_count": 14,
   "metadata": {},
   "outputs": [
    {
     "data": {
      "text/plain": [
       "16017"
      ]
     },
     "execution_count": 14,
     "metadata": {},
     "output_type": "execute_result"
    }
   ],
   "source": [
    "len(data)"
   ]
  },
  {
   "cell_type": "markdown",
   "metadata": {},
   "source": [
    "Wobei jeder eintrag einem Event entspricht"
   ]
  },
  {
   "cell_type": "code",
   "execution_count": 15,
   "metadata": {},
   "outputs": [
    {
     "data": {
      "text/plain": [
       "array([4.78125 , 6.640625, 4.40625 , ..., 0.      , 0.      , 0.      ],\n",
       "      dtype=float32)"
      ]
     },
     "execution_count": 15,
     "metadata": {},
     "output_type": "execute_result"
    }
   ],
   "source": [
    "data[0]"
   ]
  },
  {
   "cell_type": "code",
   "execution_count": 16,
   "metadata": {},
   "outputs": [
    {
     "data": {
      "text/plain": [
       "1183"
      ]
     },
     "execution_count": 16,
     "metadata": {},
     "output_type": "execute_result"
    }
   ],
   "source": [
    "len(data[0])"
   ]
  },
  {
   "cell_type": "markdown",
   "metadata": {},
   "source": [
    "Das in den hinteren Einträgen immer `0` hat"
   ]
  },
  {
   "cell_type": "code",
   "execution_count": 17,
   "metadata": {},
   "outputs": [
    {
     "data": {
      "text/plain": [
       "array([ True,  True,  True,  True,  True,  True,  True,  True,  True,\n",
       "        True,  True,  True,  True,  True,  True,  True,  True,  True,\n",
       "        True,  True,  True,  True,  True,  True,  True,  True,  True,\n",
       "        True,  True,  True,  True,  True,  True,  True,  True,  True,\n",
       "        True,  True,  True,  True,  True,  True,  True,  True,  True,\n",
       "        True,  True,  True,  True,  True,  True,  True,  True,  True,\n",
       "        True,  True,  True,  True,  True,  True,  True,  True,  True,\n",
       "        True,  True,  True,  True,  True,  True,  True,  True,  True,\n",
       "        True,  True,  True,  True,  True,  True,  True,  True,  True,\n",
       "        True,  True,  True,  True,  True,  True,  True,  True,  True,\n",
       "        True,  True,  True,  True,  True,  True,  True,  True,  True,\n",
       "        True,  True,  True,  True,  True,  True,  True,  True,  True,\n",
       "        True,  True,  True,  True,  True,  True,  True,  True,  True,\n",
       "        True,  True,  True,  True,  True,  True,  True,  True,  True,\n",
       "        True,  True,  True,  True,  True,  True,  True,  True,  True,\n",
       "        True,  True,  True,  True,  True,  True,  True,  True,  True])"
      ]
     },
     "execution_count": 17,
     "metadata": {},
     "output_type": "execute_result"
    }
   ],
   "source": [
    "data[0][1039:] == 0"
   ]
  },
  {
   "cell_type": "markdown",
   "metadata": {},
   "source": [
    "Die verschiedenen Event branches lassen sich mit numpy anhängen"
   ]
  },
  {
   "cell_type": "code",
   "execution_count": 18,
   "metadata": {},
   "outputs": [],
   "source": [
    "all_fPhot_arr = []\n",
    "for key in event_keys:\n",
    "    events = opened[key]\n",
    "    all_fPhot_arr.append(events[b\"MCerPhotEvt.fPixels.fPhot\"].array())"
   ]
  },
  {
   "cell_type": "code",
   "execution_count": 34,
   "metadata": {},
   "outputs": [],
   "source": [
    "for i in range(11076):\n",
    "    if not sum(all_fPhot_arr[0][i] == all_fPhot_arr[1][i]) == 1183:\n",
    "        print(i)"
   ]
  },
  {
   "cell_type": "markdown",
   "metadata": {},
   "source": [
    "Es scheint, als wäre der key `Events` der gleiche wie der vollere `Events;<i>`"
   ]
  },
  {
   "cell_type": "code",
   "execution_count": 21,
   "metadata": {},
   "outputs": [],
   "source": [
    "a = [*all_fPhot_arr]"
   ]
  },
  {
   "cell_type": "code",
   "execution_count": 22,
   "metadata": {},
   "outputs": [
    {
     "data": {
      "text/plain": [
       "[<JaggedArray [[4.78125  6.640625 4.40625  ... 0.       0.       0.      ] [ 5.34375    1.6289062  1.9648438 ...  0.         0.        -0.       ] [3.0546875 4.953125  4.6875    ... 0.        0.        0.       ] ... [3.0859375 3.78125   3.46875   ... 0.        0.        0.       ] [1.9882812 3.609375  3.2109375 ... 0.        0.        0.       ] [2.875     1.1679688 1.5625    ... 0.        0.        0.       ]] at 7f50f61fddd8>,\n",
       " <JaggedArray [[4.78125  6.640625 4.40625  ... 0.       0.       0.      ] [ 5.34375    1.6289062  1.9648438 ...  0.         0.        -0.       ] [3.0546875 4.953125  4.6875    ... 0.        0.        0.       ] ... [2.8671875 1.3007812 1.8710938 ... 0.        0.        0.       ] [3.3359375 3.5859375 1.7460938 ... 0.        0.        0.       ] [3.4140625 2.9765625 1.7109375 ... 0.        0.        0.       ]] at 7f50f192cd30>]"
      ]
     },
     "execution_count": 22,
     "metadata": {},
     "output_type": "execute_result"
    }
   ],
   "source": [
    "a"
   ]
  },
  {
   "cell_type": "markdown",
   "metadata": {},
   "source": [
    "Was steht sonst noch alles in der root-file?"
   ]
  },
  {
   "cell_type": "code",
   "execution_count": 35,
   "metadata": {},
   "outputs": [
    {
     "name": "stdout",
     "output_type": "stream",
     "text": [
      "<TTree b'Events' at 0x7f50f192cba8>\n",
      "<TTree b'Events' at 0x7f50fb295080>\n",
      "<TTree b'RunHeaders' at 0x7f50fb18cf98>\n",
      "<TTree b'RunTails' at 0x7f50fb28ae10>\n",
      "<TTree b'Pedestals' at 0x7f50fb1c91d0>\n",
      "<TTree b'Camera' at 0x7f50fb16ea20>\n",
      "<TTree b'Trigger' at 0x7f50f19a5da0>\n",
      "<TTree b'L3T' at 0x7f50f190e400>\n",
      "<TTree b'Drive' at 0x7f50f19222e8>\n",
      "<TTree b'CC' at 0x7f50f18ad8d0>\n",
      "<TTree b'Starguider' at 0x7f50f18c34a8>\n",
      "<TTree b'DT' at 0x7f50f18d40f0>\n",
      "<TTree b'Pyrometer' at 0x7f50f1878128>\n",
      "<TTree b'DAQ' at 0x7f50f18807f0>\n",
      "<TTree b'AMC' at 0x7f50f18932e8>\n",
      "<TTree b'SUMO' at 0x7f50f18a36a0>\n",
      "<TTree b'SumTrigger' at 0x7f50f18320b8>\n",
      "<TTree b'Lidar' at 0x7f50f1843160>\n",
      "<TTree b'Laser' at 0x7f50f184c710>\n",
      "<TTree b'Weather' at 0x7f50f1862d68>\n",
      "<TTree b'Pulsar' at 0x7f50f17f4cc0>\n",
      "<TTree b'Cal' at 0x7f50f17fbf98>\n",
      "<TTree b'Cooling' at 0x7f50f18159b0>\n",
      "<TTree b'GFS' at 0x7f50f17b02b0>\n"
     ]
    }
   ],
   "source": [
    "for key in opened.keys():\n",
    "    print(opened[key])"
   ]
  },
  {
   "cell_type": "code",
   "execution_count": 40,
   "metadata": {},
   "outputs": [
    {
     "data": {
      "text/plain": [
       "[b'MRawRunHeader.',\n",
       " b'MBadPixelsCam.',\n",
       " b'MGeomCam.',\n",
       " b'MArgs-sorcerer.',\n",
       " b'MEnv-sorcerer.']"
      ]
     },
     "execution_count": 40,
     "metadata": {},
     "output_type": "execute_result"
    }
   ],
   "source": [
    "opened[b'RunHeaders'].keys()"
   ]
  },
  {
   "cell_type": "code",
   "execution_count": 47,
   "metadata": {},
   "outputs": [
    {
     "data": {
      "text/plain": [
       "<JaggedArray [[50331648 50331648 50331648 ... 50331648 50331648 50331648]] at 7f50f15f0cc0>"
      ]
     },
     "execution_count": 47,
     "metadata": {},
     "output_type": "execute_result"
    }
   ],
   "source": [
    "opened[b'RunHeaders'][b'MBadPixelsCam.fArray.fBits'].array()"
   ]
  }
 ],
 "metadata": {
  "kernelspec": {
   "display_name": "Python 3",
   "language": "python",
   "name": "python3"
  },
  "language_info": {
   "codemirror_mode": {
    "name": "ipython",
    "version": 3
   },
   "file_extension": ".py",
   "mimetype": "text/x-python",
   "name": "python",
   "nbconvert_exporter": "python",
   "pygments_lexer": "ipython3",
   "version": "3.6.6"
  }
 },
 "nbformat": 4,
 "nbformat_minor": 2
}
